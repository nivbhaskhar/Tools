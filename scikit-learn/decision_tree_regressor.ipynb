{
 "cells": [
  {
   "cell_type": "markdown",
   "metadata": {},
   "source": [
    "# Decision tree regressor using scikit-learn"
   ]
  },
  {
   "cell_type": "code",
   "execution_count": 139,
   "metadata": {},
   "outputs": [],
   "source": [
    "#imports\n",
    "import pandas as pd\n",
    "import matplotlib.pyplot as plt\n",
    "plt.style.use('classic')\n",
    "import numpy as np\n",
    "\n",
    "from sklearn.model_selection import train_test_split\n",
    "from sklearn.tree import DecisionTreeRegressor\n",
    "from sklearn import tree\n",
    "from sklearn.tree import export_graphviz\n",
    "import graphviz \n",
    "from sklearn.metrics import mean_squared_error"
   ]
  },
  {
   "cell_type": "markdown",
   "metadata": {},
   "source": [
    "# Weather data"
   ]
  },
  {
   "cell_type": "code",
   "execution_count": 71,
   "metadata": {},
   "outputs": [],
   "source": [
    "col_names = ['date','avgtemp', 'mintemp', 'pp', 'snow', 'wind-dir', 'wind-speed', 'wind-gut', 'air-pressure', 'sunshine', 'dummy']\n",
    "#Reads the comma separated csv into a pandas dataframe\n",
    "daily_weather_df =pd.read_csv('KCQT0.csv', sep=',',names=col_names, header = None)\n"
   ]
  },
  {
   "cell_type": "code",
   "execution_count": 72,
   "metadata": {},
   "outputs": [
    {
     "name": "stdout",
     "output_type": "stream",
     "text": [
      "Weather dataframe looks like:\n"
     ]
    },
    {
     "data": {
      "text/html": [
       "<div>\n",
       "<style scoped>\n",
       "    .dataframe tbody tr th:only-of-type {\n",
       "        vertical-align: middle;\n",
       "    }\n",
       "\n",
       "    .dataframe tbody tr th {\n",
       "        vertical-align: top;\n",
       "    }\n",
       "\n",
       "    .dataframe thead th {\n",
       "        text-align: right;\n",
       "    }\n",
       "</style>\n",
       "<table border=\"1\" class=\"dataframe\">\n",
       "  <thead>\n",
       "    <tr style=\"text-align: right;\">\n",
       "      <th></th>\n",
       "      <th>date</th>\n",
       "      <th>avgtemp</th>\n",
       "      <th>mintemp</th>\n",
       "      <th>pp</th>\n",
       "      <th>snow</th>\n",
       "      <th>wind-dir</th>\n",
       "      <th>wind-speed</th>\n",
       "      <th>wind-gut</th>\n",
       "      <th>air-pressure</th>\n",
       "      <th>sunshine</th>\n",
       "      <th>dummy</th>\n",
       "    </tr>\n",
       "  </thead>\n",
       "  <tbody>\n",
       "    <tr>\n",
       "      <th>0</th>\n",
       "      <td>2000-01-01</td>\n",
       "      <td>10.4</td>\n",
       "      <td>7.8</td>\n",
       "      <td>13.9</td>\n",
       "      <td>NaN</td>\n",
       "      <td>NaN</td>\n",
       "      <td>NaN</td>\n",
       "      <td>2.0</td>\n",
       "      <td>NaN</td>\n",
       "      <td>1018.9</td>\n",
       "      <td>NaN</td>\n",
       "    </tr>\n",
       "    <tr>\n",
       "      <th>1</th>\n",
       "      <td>2000-01-02</td>\n",
       "      <td>12.0</td>\n",
       "      <td>7.2</td>\n",
       "      <td>15.6</td>\n",
       "      <td>NaN</td>\n",
       "      <td>NaN</td>\n",
       "      <td>NaN</td>\n",
       "      <td>8.1</td>\n",
       "      <td>NaN</td>\n",
       "      <td>1021.0</td>\n",
       "      <td>NaN</td>\n",
       "    </tr>\n",
       "    <tr>\n",
       "      <th>2</th>\n",
       "      <td>2000-01-03</td>\n",
       "      <td>11.4</td>\n",
       "      <td>5.6</td>\n",
       "      <td>18.9</td>\n",
       "      <td>NaN</td>\n",
       "      <td>NaN</td>\n",
       "      <td>NaN</td>\n",
       "      <td>1.3</td>\n",
       "      <td>NaN</td>\n",
       "      <td>1026.5</td>\n",
       "      <td>NaN</td>\n",
       "    </tr>\n",
       "    <tr>\n",
       "      <th>3</th>\n",
       "      <td>2000-01-04</td>\n",
       "      <td>12.6</td>\n",
       "      <td>7.2</td>\n",
       "      <td>20.0</td>\n",
       "      <td>NaN</td>\n",
       "      <td>NaN</td>\n",
       "      <td>NaN</td>\n",
       "      <td>3.0</td>\n",
       "      <td>NaN</td>\n",
       "      <td>1024.9</td>\n",
       "      <td>NaN</td>\n",
       "    </tr>\n",
       "    <tr>\n",
       "      <th>4</th>\n",
       "      <td>2000-01-05</td>\n",
       "      <td>13.3</td>\n",
       "      <td>5.6</td>\n",
       "      <td>21.7</td>\n",
       "      <td>NaN</td>\n",
       "      <td>NaN</td>\n",
       "      <td>NaN</td>\n",
       "      <td>1.9</td>\n",
       "      <td>NaN</td>\n",
       "      <td>1018.0</td>\n",
       "      <td>NaN</td>\n",
       "    </tr>\n",
       "  </tbody>\n",
       "</table>\n",
       "</div>"
      ],
      "text/plain": [
       "         date  avgtemp  mintemp    pp  snow  wind-dir  wind-speed  wind-gut  \\\n",
       "0  2000-01-01     10.4      7.8  13.9   NaN       NaN         NaN       2.0   \n",
       "1  2000-01-02     12.0      7.2  15.6   NaN       NaN         NaN       8.1   \n",
       "2  2000-01-03     11.4      5.6  18.9   NaN       NaN         NaN       1.3   \n",
       "3  2000-01-04     12.6      7.2  20.0   NaN       NaN         NaN       3.0   \n",
       "4  2000-01-05     13.3      5.6  21.7   NaN       NaN         NaN       1.9   \n",
       "\n",
       "   air-pressure  sunshine  dummy  \n",
       "0           NaN    1018.9    NaN  \n",
       "1           NaN    1021.0    NaN  \n",
       "2           NaN    1026.5    NaN  \n",
       "3           NaN    1024.9    NaN  \n",
       "4           NaN    1018.0    NaN  "
      ]
     },
     "execution_count": 72,
     "metadata": {},
     "output_type": "execute_result"
    }
   ],
   "source": [
    "print(\"Weather dataframe looks like:\")\n",
    "daily_weather_df.head()"
   ]
  },
  {
   "cell_type": "code",
   "execution_count": 73,
   "metadata": {},
   "outputs": [],
   "source": [
    "#Delete irrelevant cols\n",
    "del daily_weather_df['dummy']\n",
    "del daily_weather_df['air-pressure']\n",
    "del daily_weather_df['wind-speed']\n",
    "del daily_weather_df['snow']\n",
    "del daily_weather_df['wind-dir']\n",
    "del daily_weather_df['date']\n",
    "del daily_weather_df['mintemp']"
   ]
  },
  {
   "cell_type": "code",
   "execution_count": 74,
   "metadata": {},
   "outputs": [
    {
     "name": "stdout",
     "output_type": "stream",
     "text": [
      "Weather dataframe now looks like:\n"
     ]
    },
    {
     "data": {
      "text/html": [
       "<div>\n",
       "<style scoped>\n",
       "    .dataframe tbody tr th:only-of-type {\n",
       "        vertical-align: middle;\n",
       "    }\n",
       "\n",
       "    .dataframe tbody tr th {\n",
       "        vertical-align: top;\n",
       "    }\n",
       "\n",
       "    .dataframe thead th {\n",
       "        text-align: right;\n",
       "    }\n",
       "</style>\n",
       "<table border=\"1\" class=\"dataframe\">\n",
       "  <thead>\n",
       "    <tr style=\"text-align: right;\">\n",
       "      <th></th>\n",
       "      <th>avgtemp</th>\n",
       "      <th>pp</th>\n",
       "      <th>wind-gut</th>\n",
       "      <th>sunshine</th>\n",
       "    </tr>\n",
       "  </thead>\n",
       "  <tbody>\n",
       "    <tr>\n",
       "      <th>0</th>\n",
       "      <td>10.4</td>\n",
       "      <td>13.9</td>\n",
       "      <td>2.0</td>\n",
       "      <td>1018.9</td>\n",
       "    </tr>\n",
       "    <tr>\n",
       "      <th>1</th>\n",
       "      <td>12.0</td>\n",
       "      <td>15.6</td>\n",
       "      <td>8.1</td>\n",
       "      <td>1021.0</td>\n",
       "    </tr>\n",
       "    <tr>\n",
       "      <th>2</th>\n",
       "      <td>11.4</td>\n",
       "      <td>18.9</td>\n",
       "      <td>1.3</td>\n",
       "      <td>1026.5</td>\n",
       "    </tr>\n",
       "    <tr>\n",
       "      <th>3</th>\n",
       "      <td>12.6</td>\n",
       "      <td>20.0</td>\n",
       "      <td>3.0</td>\n",
       "      <td>1024.9</td>\n",
       "    </tr>\n",
       "    <tr>\n",
       "      <th>4</th>\n",
       "      <td>13.3</td>\n",
       "      <td>21.7</td>\n",
       "      <td>1.9</td>\n",
       "      <td>1018.0</td>\n",
       "    </tr>\n",
       "  </tbody>\n",
       "</table>\n",
       "</div>"
      ],
      "text/plain": [
       "   avgtemp    pp  wind-gut  sunshine\n",
       "0     10.4  13.9       2.0    1018.9\n",
       "1     12.0  15.6       8.1    1021.0\n",
       "2     11.4  18.9       1.3    1026.5\n",
       "3     12.6  20.0       3.0    1024.9\n",
       "4     13.3  21.7       1.9    1018.0"
      ]
     },
     "execution_count": 74,
     "metadata": {},
     "output_type": "execute_result"
    }
   ],
   "source": [
    "print(\"Weather dataframe now looks like:\")\n",
    "daily_weather_df.head()"
   ]
  },
  {
   "cell_type": "code",
   "execution_count": 75,
   "metadata": {},
   "outputs": [
    {
     "data": {
      "text/plain": [
       "(2174, 4)"
      ]
     },
     "execution_count": 75,
     "metadata": {},
     "output_type": "execute_result"
    }
   ],
   "source": [
    "daily_weather_df.shape"
   ]
  },
  {
   "cell_type": "code",
   "execution_count": 76,
   "metadata": {},
   "outputs": [
    {
     "data": {
      "text/plain": [
       "avgtemp      10\n",
       "pp           10\n",
       "wind-gut    224\n",
       "sunshine    233\n",
       "dtype: int64"
      ]
     },
     "execution_count": 76,
     "metadata": {},
     "output_type": "execute_result"
    }
   ],
   "source": [
    "#Check how many NaN entries in each column\n",
    "daily_weather_df.isnull().sum()"
   ]
  },
  {
   "cell_type": "code",
   "execution_count": 77,
   "metadata": {},
   "outputs": [],
   "source": [
    "#Delete rows with NaN entries\n",
    "daily_weather_df.dropna(inplace=True)\n"
   ]
  },
  {
   "cell_type": "code",
   "execution_count": 78,
   "metadata": {},
   "outputs": [
    {
     "data": {
      "text/plain": [
       "(1866, 4)"
      ]
     },
     "execution_count": 78,
     "metadata": {},
     "output_type": "execute_result"
    }
   ],
   "source": [
    "daily_weather_df.shape"
   ]
  },
  {
   "cell_type": "markdown",
   "metadata": {},
   "source": [
    "# Regression task"
   ]
  },
  {
   "cell_type": "markdown",
   "metadata": {},
   "source": [
    "Let's predict precipitation given avg-temp, min-temp, wind-gut and sunshine. We'll do that by doing regression using Decision Trees"
   ]
  },
  {
   "cell_type": "code",
   "execution_count": 79,
   "metadata": {},
   "outputs": [],
   "source": [
    "#Drop precipitation column to get weather_features\n",
    "weather_features = daily_weather_df.drop(['pp'], axis=1)"
   ]
  },
  {
   "cell_type": "code",
   "execution_count": 80,
   "metadata": {},
   "outputs": [
    {
     "data": {
      "text/html": [
       "<div>\n",
       "<style scoped>\n",
       "    .dataframe tbody tr th:only-of-type {\n",
       "        vertical-align: middle;\n",
       "    }\n",
       "\n",
       "    .dataframe tbody tr th {\n",
       "        vertical-align: top;\n",
       "    }\n",
       "\n",
       "    .dataframe thead th {\n",
       "        text-align: right;\n",
       "    }\n",
       "</style>\n",
       "<table border=\"1\" class=\"dataframe\">\n",
       "  <thead>\n",
       "    <tr style=\"text-align: right;\">\n",
       "      <th></th>\n",
       "      <th>avgtemp</th>\n",
       "      <th>wind-gut</th>\n",
       "      <th>sunshine</th>\n",
       "    </tr>\n",
       "  </thead>\n",
       "  <tbody>\n",
       "    <tr>\n",
       "      <th>0</th>\n",
       "      <td>10.4</td>\n",
       "      <td>2.0</td>\n",
       "      <td>1018.9</td>\n",
       "    </tr>\n",
       "    <tr>\n",
       "      <th>1</th>\n",
       "      <td>12.0</td>\n",
       "      <td>8.1</td>\n",
       "      <td>1021.0</td>\n",
       "    </tr>\n",
       "    <tr>\n",
       "      <th>2</th>\n",
       "      <td>11.4</td>\n",
       "      <td>1.3</td>\n",
       "      <td>1026.5</td>\n",
       "    </tr>\n",
       "    <tr>\n",
       "      <th>3</th>\n",
       "      <td>12.6</td>\n",
       "      <td>3.0</td>\n",
       "      <td>1024.9</td>\n",
       "    </tr>\n",
       "    <tr>\n",
       "      <th>4</th>\n",
       "      <td>13.3</td>\n",
       "      <td>1.9</td>\n",
       "      <td>1018.0</td>\n",
       "    </tr>\n",
       "  </tbody>\n",
       "</table>\n",
       "</div>"
      ],
      "text/plain": [
       "   avgtemp  wind-gut  sunshine\n",
       "0     10.4       2.0    1018.9\n",
       "1     12.0       8.1    1021.0\n",
       "2     11.4       1.3    1026.5\n",
       "3     12.6       3.0    1024.9\n",
       "4     13.3       1.9    1018.0"
      ]
     },
     "execution_count": 80,
     "metadata": {},
     "output_type": "execute_result"
    }
   ],
   "source": [
    "weather_features.head()"
   ]
  },
  {
   "cell_type": "code",
   "execution_count": 81,
   "metadata": {},
   "outputs": [],
   "source": [
    "precipitation_labels = daily_weather_df['pp']"
   ]
  },
  {
   "cell_type": "code",
   "execution_count": 82,
   "metadata": {},
   "outputs": [
    {
     "data": {
      "text/plain": [
       "0    13.9\n",
       "1    15.6\n",
       "2    18.9\n",
       "3    20.0\n",
       "4    21.7\n",
       "Name: pp, dtype: float64"
      ]
     },
     "execution_count": 82,
     "metadata": {},
     "output_type": "execute_result"
    }
   ],
   "source": [
    " precipitation_labels.head()"
   ]
  },
  {
   "cell_type": "markdown",
   "metadata": {},
   "source": [
    "# Training and test data split"
   ]
  },
  {
   "cell_type": "code",
   "execution_count": 83,
   "metadata": {},
   "outputs": [],
   "source": [
    "#Declare random state to be an int to get reproducible output, shuffle is True by default\n",
    "X_train, X_test, y_train, y_test = train_test_split(weather_features, precipitation_labels,\n",
    "                                                    test_size=0.30, random_state=10, shuffle=True)"
   ]
  },
  {
   "cell_type": "code",
   "execution_count": 84,
   "metadata": {},
   "outputs": [
    {
     "name": "stdout",
     "output_type": "stream",
     "text": [
      "Training data : (1306, 3), (1306,)\n",
      "Test data : (560, 3), (560,)\n"
     ]
    }
   ],
   "source": [
    "print(f\"Training data : {X_train.shape}, {y_train.shape}\")\n",
    "print(f\"Test data : {X_test.shape}, {y_test.shape}\")"
   ]
  },
  {
   "cell_type": "markdown",
   "metadata": {},
   "source": [
    "# Regression Tree"
   ]
  },
  {
   "cell_type": "code",
   "execution_count": 88,
   "metadata": {},
   "outputs": [
    {
     "data": {
      "text/plain": [
       "DecisionTreeRegressor(ccp_alpha=0.0, criterion='mse', max_depth=4,\n",
       "                      max_features=None, max_leaf_nodes=None,\n",
       "                      min_impurity_decrease=0.0, min_impurity_split=None,\n",
       "                      min_samples_leaf=1, min_samples_split=2,\n",
       "                      min_weight_fraction_leaf=0.0, presort='deprecated',\n",
       "                      random_state=None, splitter='best')"
      ]
     },
     "execution_count": 88,
     "metadata": {},
     "output_type": "execute_result"
    }
   ],
   "source": [
    "tree_reg = DecisionTreeRegressor(max_depth=4)\n",
    "tree_reg.fit(X_train, y_train)"
   ]
  },
  {
   "cell_type": "code",
   "execution_count": 89,
   "metadata": {},
   "outputs": [
    {
     "data": {
      "text/plain": [
       "[Text(167.4, 195.696, 'X[0] <= 17.95\\nmse = 22.44\\nsamples = 1306\\nvalue = 22.881'),\n",
       " Text(83.7, 152.208, 'X[0] <= 14.65\\nmse = 9.193\\nsamples = 683\\nvalue = 19.421'),\n",
       " Text(41.85, 108.72, 'X[0] <= 12.25\\nmse = 5.516\\nsamples = 332\\nvalue = 17.362'),\n",
       " Text(20.925, 65.232, 'X[1] <= 3.55\\nmse = 4.064\\nsamples = 106\\nvalue = 15.417'),\n",
       " Text(10.4625, 21.744, 'mse = 2.669\\nsamples = 55\\nvalue = 16.476'),\n",
       " Text(31.387500000000003, 21.744, 'mse = 3.052\\nsamples = 51\\nvalue = 14.275'),\n",
       " Text(62.775000000000006, 65.232, 'X[1] <= 3.25\\nmse = 3.591\\nsamples = 226\\nvalue = 18.274'),\n",
       " Text(52.3125, 21.744, 'mse = 3.449\\nsamples = 126\\nvalue = 18.926'),\n",
       " Text(73.2375, 21.744, 'mse = 2.56\\nsamples = 100\\nvalue = 17.453'),\n",
       " Text(125.55000000000001, 108.72, 'X[0] <= 15.65\\nmse = 4.869\\nsamples = 351\\nvalue = 21.368'),\n",
       " Text(104.625, 65.232, 'X[2] <= 1021.35\\nmse = 2.913\\nsamples = 111\\nvalue = 19.968'),\n",
       " Text(94.16250000000001, 21.744, 'mse = 2.097\\nsamples = 102\\nvalue = 19.704'),\n",
       " Text(115.0875, 21.744, 'mse = 2.378\\nsamples = 9\\nvalue = 22.967'),\n",
       " Text(146.475, 65.232, 'X[2] <= 1018.15\\nmse = 4.448\\nsamples = 240\\nvalue = 22.016'),\n",
       " Text(136.01250000000002, 21.744, 'mse = 3.491\\nsamples = 172\\nvalue = 21.406'),\n",
       " Text(156.9375, 21.744, 'mse = 3.551\\nsamples = 68\\nvalue = 23.557'),\n",
       " Text(251.10000000000002, 152.208, 'X[0] <= 21.55\\nmse = 9.448\\nsamples = 623\\nvalue = 26.674'),\n",
       " Text(209.25, 108.72, 'X[0] <= 20.25\\nmse = 3.761\\nsamples = 431\\nvalue = 25.221'),\n",
       " Text(188.32500000000002, 65.232, 'X[1] <= 2.05\\nmse = 2.985\\nsamples = 294\\nvalue = 24.541'),\n",
       " Text(177.8625, 21.744, 'mse = 0.927\\nsamples = 19\\nvalue = 26.553'),\n",
       " Text(198.7875, 21.744, 'mse = 2.829\\nsamples = 275\\nvalue = 24.402'),\n",
       " Text(230.175, 65.232, 'X[1] <= 3.55\\nmse = 2.302\\nsamples = 137\\nvalue = 26.681'),\n",
       " Text(219.7125, 21.744, 'mse = 2.591\\nsamples = 25\\nvalue = 28.172'),\n",
       " Text(240.63750000000002, 21.744, 'mse = 1.631\\nsamples = 112\\nvalue = 26.348'),\n",
       " Text(292.95, 108.72, 'X[0] <= 23.95\\nmse = 6.829\\nsamples = 192\\nvalue = 29.937'),\n",
       " Text(272.02500000000003, 65.232, 'X[1] <= 3.15\\nmse = 3.52\\nsamples = 140\\nvalue = 28.901'),\n",
       " Text(261.5625, 21.744, 'mse = 4.157\\nsamples = 28\\nvalue = 30.725'),\n",
       " Text(282.4875, 21.744, 'mse = 2.321\\nsamples = 112\\nvalue = 28.445'),\n",
       " Text(313.875, 65.232, 'X[0] <= 26.15\\nmse = 5.06\\nsamples = 52\\nvalue = 32.727'),\n",
       " Text(303.4125, 21.744, 'mse = 2.579\\nsamples = 39\\nvalue = 31.838'),\n",
       " Text(324.33750000000003, 21.744, 'mse = 3.031\\nsamples = 13\\nvalue = 35.392')]"
      ]
     },
     "execution_count": 89,
     "metadata": {},
     "output_type": "execute_result"
    },
    {
     "data": {
      "image/png": "[encoded data removed]",
      "text/plain": [
       "<Figure size 432x288 with 1 Axes>"
      ]
     },
     "metadata": {
      "needs_background": "light"
     },
     "output_type": "display_data"
    }
   ],
   "source": [
    "tree.plot_tree(tree_reg) "
   ]
  },
  {
   "cell_type": "markdown",
   "metadata": {},
   "source": [
    "# Prettier visuals"
   ]
  },
  {
   "cell_type": "code",
   "execution_count": 90,
   "metadata": {},
   "outputs": [
    {
     "data": {
      "image/svg+xml": [
       "<?xml version=\"1.0\" encoding=\"UTF-8\" standalone=\"no\"?>\n",
       "<!DOCTYPE svg PUBLIC \"-//W3C//DTD SVG 1.1//EN\"\n",
       " \"http://www.w3.org/Graphics/SVG/1.1/DTD/svg11.dtd\">\n",
       "<!-- Generated by graphviz version 2.43.0 (0)\n",
       " -->\n",
       "<!-- Title: Tree Pages: 1 -->\n",
       "<svg width=\"2006pt\" height=\"458pt\"\n",
       " viewBox=\"0.00 0.00 2006.24 458.00\" xmlns=\"http://www.w3.org/2000/svg\" xmlns:xlink=\"http://www.w3.org/1999/xlink\">\n",
       "<g id=\"graph0\" class=\"graph\" transform=\"scale(1 1) rotate(0) translate(4 454)\">\n",
       "<title>Tree</title>\n",
       "<polygon fill=\"white\" stroke=\"transparent\" points=\"-4,4 -4,-454 2002.24,-454 2002.24,4 -4,4\"/>\n",
       "<!-- 0 -->\n",
       "<g id=\"node1\" class=\"node\">\n",
       "<title>0</title>\n",
       "<path fill=\"#f4ccae\" stroke=\"black\" d=\"M1063.48,-450C1063.48,-450 958.76,-450 958.76,-450 952.76,-450 946.76,-444 946.76,-438 946.76,-438 946.76,-398 946.76,-398 946.76,-392 952.76,-386 958.76,-386 958.76,-386 1063.48,-386 1063.48,-386 1069.48,-386 1075.48,-392 1075.48,-398 1075.48,-398 1075.48,-438 1075.48,-438 1075.48,-444 1069.48,-450 1063.48,-450\"/>\n",
       "<text text-anchor=\"middle\" x=\"1011.12\" y=\"-434.8\" font-family=\"Helvetica,sans-Serif\" font-size=\"14.00\">avgtemp &lt;= 17.95</text>\n",
       "<text text-anchor=\"middle\" x=\"1011.12\" y=\"-420.8\" font-family=\"Helvetica,sans-Serif\" font-size=\"14.00\">mse = 22.44</text>\n",
       "<text text-anchor=\"middle\" x=\"1011.12\" y=\"-406.8\" font-family=\"Helvetica,sans-Serif\" font-size=\"14.00\">samples = 1306</text>\n",
       "<text text-anchor=\"middle\" x=\"1011.12\" y=\"-392.8\" font-family=\"Helvetica,sans-Serif\" font-size=\"14.00\">value = 22.881</text>\n",
       "</g>\n",
       "<!-- 1 -->\n",
       "<g id=\"node2\" class=\"node\">\n",
       "<title>1</title>\n",
       "<path fill=\"#f9e0cf\" stroke=\"black\" d=\"M798.48,-350C798.48,-350 693.76,-350 693.76,-350 687.76,-350 681.76,-344 681.76,-338 681.76,-338 681.76,-298 681.76,-298 681.76,-292 687.76,-286 693.76,-286 693.76,-286 798.48,-286 798.48,-286 804.48,-286 810.48,-292 810.48,-298 810.48,-298 810.48,-338 810.48,-338 810.48,-344 804.48,-350 798.48,-350\"/>\n",
       "<text text-anchor=\"middle\" x=\"746.12\" y=\"-334.8\" font-family=\"Helvetica,sans-Serif\" font-size=\"14.00\">avgtemp &lt;= 14.65</text>\n",
       "<text text-anchor=\"middle\" x=\"746.12\" y=\"-320.8\" font-family=\"Helvetica,sans-Serif\" font-size=\"14.00\">mse = 9.193</text>\n",
       "<text text-anchor=\"middle\" x=\"746.12\" y=\"-306.8\" font-family=\"Helvetica,sans-Serif\" font-size=\"14.00\">samples = 683</text>\n",
       "<text text-anchor=\"middle\" x=\"746.12\" y=\"-292.8\" font-family=\"Helvetica,sans-Serif\" font-size=\"14.00\">value = 19.421</text>\n",
       "</g>\n",
       "<!-- 0&#45;&gt;1 -->\n",
       "<g id=\"edge1\" class=\"edge\">\n",
       "<title>0&#45;&gt;1</title>\n",
       "<path fill=\"none\" stroke=\"black\" d=\"M946.63,-393.15C908.56,-379.07 860.21,-361.19 820.53,-346.52\"/>\n",
       "<polygon fill=\"black\" stroke=\"black\" points=\"821.49,-343.14 810.9,-342.96 819.06,-349.71 821.49,-343.14\"/>\n",
       "<text text-anchor=\"middle\" x=\"821.35\" y=\"-361.47\" font-family=\"Helvetica,sans-Serif\" font-size=\"14.00\">True</text>\n",
       "</g>\n",
       "<!-- 16 -->\n",
       "<g id=\"node17\" class=\"node\">\n",
       "<title>16</title>\n",
       "<path fill=\"#f0b58b\" stroke=\"black\" d=\"M1303.48,-350C1303.48,-350 1198.76,-350 1198.76,-350 1192.76,-350 1186.76,-344 1186.76,-338 1186.76,-338 1186.76,-298 1186.76,-298 1186.76,-292 1192.76,-286 1198.76,-286 1198.76,-286 1303.48,-286 1303.48,-286 1309.48,-286 1315.48,-292 1315.48,-298 1315.48,-298 1315.48,-338 1315.48,-338 1315.48,-344 1309.48,-350 1303.48,-350\"/>\n",
       "<text text-anchor=\"middle\" x=\"1251.12\" y=\"-334.8\" font-family=\"Helvetica,sans-Serif\" font-size=\"14.00\">avgtemp &lt;= 21.55</text>\n",
       "<text text-anchor=\"middle\" x=\"1251.12\" y=\"-320.8\" font-family=\"Helvetica,sans-Serif\" font-size=\"14.00\">mse = 9.448</text>\n",
       "<text text-anchor=\"middle\" x=\"1251.12\" y=\"-306.8\" font-family=\"Helvetica,sans-Serif\" font-size=\"14.00\">samples = 623</text>\n",
       "<text text-anchor=\"middle\" x=\"1251.12\" y=\"-292.8\" font-family=\"Helvetica,sans-Serif\" font-size=\"14.00\">value = 26.674</text>\n",
       "</g>\n",
       "<!-- 0&#45;&gt;16 -->\n",
       "<g id=\"edge16\" class=\"edge\">\n",
       "<title>0&#45;&gt;16</title>\n",
       "<path fill=\"none\" stroke=\"black\" d=\"M1075.75,-390.61C1106.97,-377.86 1144.58,-362.51 1176.95,-349.29\"/>\n",
       "<polygon fill=\"black\" stroke=\"black\" points=\"1178.44,-352.46 1186.38,-345.44 1175.79,-345.98 1178.44,-352.46\"/>\n",
       "<text text-anchor=\"middle\" x=\"1176.69\" y=\"-364.29\" font-family=\"Helvetica,sans-Serif\" font-size=\"14.00\">False</text>\n",
       "</g>\n",
       "<!-- 2 -->\n",
       "<g id=\"node3\" class=\"node\">\n",
       "<title>2</title>\n",
       "<path fill=\"#fbede2\" stroke=\"black\" d=\"M427.48,-250C427.48,-250 322.76,-250 322.76,-250 316.76,-250 310.76,-244 310.76,-238 310.76,-238 310.76,-198 310.76,-198 310.76,-192 316.76,-186 322.76,-186 322.76,-186 427.48,-186 427.48,-186 433.48,-186 439.48,-192 439.48,-198 439.48,-198 439.48,-238 439.48,-238 439.48,-244 433.48,-250 427.48,-250\"/>\n",
       "<text text-anchor=\"middle\" x=\"375.12\" y=\"-234.8\" font-family=\"Helvetica,sans-Serif\" font-size=\"14.00\">avgtemp &lt;= 12.25</text>\n",
       "<text text-anchor=\"middle\" x=\"375.12\" y=\"-220.8\" font-family=\"Helvetica,sans-Serif\" font-size=\"14.00\">mse = 5.516</text>\n",
       "<text text-anchor=\"middle\" x=\"375.12\" y=\"-206.8\" font-family=\"Helvetica,sans-Serif\" font-size=\"14.00\">samples = 332</text>\n",
       "<text text-anchor=\"middle\" x=\"375.12\" y=\"-192.8\" font-family=\"Helvetica,sans-Serif\" font-size=\"14.00\">value = 17.362</text>\n",
       "</g>\n",
       "<!-- 1&#45;&gt;2 -->\n",
       "<g id=\"edge2\" class=\"edge\">\n",
       "<title>1&#45;&gt;2</title>\n",
       "<path fill=\"none\" stroke=\"black\" d=\"M681.5,-299.93C616.79,-282.84 517.34,-256.57 449.41,-238.62\"/>\n",
       "<polygon fill=\"black\" stroke=\"black\" points=\"450.19,-235.21 439.63,-236.04 448.4,-241.98 450.19,-235.21\"/>\n",
       "</g>\n",
       "<!-- 9 -->\n",
       "<g id=\"node10\" class=\"node\">\n",
       "<title>9</title>\n",
       "<path fill=\"#f6d5bc\" stroke=\"black\" d=\"M798.48,-250C798.48,-250 693.76,-250 693.76,-250 687.76,-250 681.76,-244 681.76,-238 681.76,-238 681.76,-198 681.76,-198 681.76,-192 687.76,-186 693.76,-186 693.76,-186 798.48,-186 798.48,-186 804.48,-186 810.48,-192 810.48,-198 810.48,-198 810.48,-238 810.48,-238 810.48,-244 804.48,-250 798.48,-250\"/>\n",
       "<text text-anchor=\"middle\" x=\"746.12\" y=\"-234.8\" font-family=\"Helvetica,sans-Serif\" font-size=\"14.00\">avgtemp &lt;= 15.65</text>\n",
       "<text text-anchor=\"middle\" x=\"746.12\" y=\"-220.8\" font-family=\"Helvetica,sans-Serif\" font-size=\"14.00\">mse = 4.869</text>\n",
       "<text text-anchor=\"middle\" x=\"746.12\" y=\"-206.8\" font-family=\"Helvetica,sans-Serif\" font-size=\"14.00\">samples = 351</text>\n",
       "<text text-anchor=\"middle\" x=\"746.12\" y=\"-192.8\" font-family=\"Helvetica,sans-Serif\" font-size=\"14.00\">value = 21.368</text>\n",
       "</g>\n",
       "<!-- 1&#45;&gt;9 -->\n",
       "<g id=\"edge9\" class=\"edge\">\n",
       "<title>1&#45;&gt;9</title>\n",
       "<path fill=\"none\" stroke=\"black\" d=\"M746.12,-285.99C746.12,-277.86 746.12,-268.96 746.12,-260.38\"/>\n",
       "<polygon fill=\"black\" stroke=\"black\" points=\"749.62,-260.14 746.12,-250.14 742.62,-260.14 749.62,-260.14\"/>\n",
       "</g>\n",
       "<!-- 3 -->\n",
       "<g id=\"node4\" class=\"node\">\n",
       "<title>3</title>\n",
       "<path fill=\"#fef8f4\" stroke=\"black\" d=\"M228.42,-150C228.42,-150 131.83,-150 131.83,-150 125.83,-150 119.83,-144 119.83,-138 119.83,-138 119.83,-98 119.83,-98 119.83,-92 125.83,-86 131.83,-86 131.83,-86 228.42,-86 228.42,-86 234.42,-86 240.42,-92 240.42,-98 240.42,-98 240.42,-138 240.42,-138 240.42,-144 234.42,-150 228.42,-150\"/>\n",
       "<text text-anchor=\"middle\" x=\"180.12\" y=\"-134.8\" font-family=\"Helvetica,sans-Serif\" font-size=\"14.00\">wind&#45;gut &lt;= 3.55</text>\n",
       "<text text-anchor=\"middle\" x=\"180.12\" y=\"-120.8\" font-family=\"Helvetica,sans-Serif\" font-size=\"14.00\">mse = 4.064</text>\n",
       "<text text-anchor=\"middle\" x=\"180.12\" y=\"-106.8\" font-family=\"Helvetica,sans-Serif\" font-size=\"14.00\">samples = 106</text>\n",
       "<text text-anchor=\"middle\" x=\"180.12\" y=\"-92.8\" font-family=\"Helvetica,sans-Serif\" font-size=\"14.00\">value = 15.417</text>\n",
       "</g>\n",
       "<!-- 2&#45;&gt;3 -->\n",
       "<g id=\"edge3\" class=\"edge\">\n",
       "<title>2&#45;&gt;3</title>\n",
       "<path fill=\"none\" stroke=\"black\" d=\"M313.42,-185.99C293.11,-175.78 270.39,-164.36 249.54,-153.89\"/>\n",
       "<polygon fill=\"black\" stroke=\"black\" points=\"250.93,-150.67 240.42,-149.3 247.78,-156.92 250.93,-150.67\"/>\n",
       "</g>\n",
       "<!-- 6 -->\n",
       "<g id=\"node7\" class=\"node\">\n",
       "<title>6</title>\n",
       "<path fill=\"#fae7d9\" stroke=\"black\" d=\"M423.42,-150C423.42,-150 326.83,-150 326.83,-150 320.83,-150 314.83,-144 314.83,-138 314.83,-138 314.83,-98 314.83,-98 314.83,-92 320.83,-86 326.83,-86 326.83,-86 423.42,-86 423.42,-86 429.42,-86 435.42,-92 435.42,-98 435.42,-98 435.42,-138 435.42,-138 435.42,-144 429.42,-150 423.42,-150\"/>\n",
       "<text text-anchor=\"middle\" x=\"375.12\" y=\"-134.8\" font-family=\"Helvetica,sans-Serif\" font-size=\"14.00\">wind&#45;gut &lt;= 3.25</text>\n",
       "<text text-anchor=\"middle\" x=\"375.12\" y=\"-120.8\" font-family=\"Helvetica,sans-Serif\" font-size=\"14.00\">mse = 3.591</text>\n",
       "<text text-anchor=\"middle\" x=\"375.12\" y=\"-106.8\" font-family=\"Helvetica,sans-Serif\" font-size=\"14.00\">samples = 226</text>\n",
       "<text text-anchor=\"middle\" x=\"375.12\" y=\"-92.8\" font-family=\"Helvetica,sans-Serif\" font-size=\"14.00\">value = 18.274</text>\n",
       "</g>\n",
       "<!-- 2&#45;&gt;6 -->\n",
       "<g id=\"edge6\" class=\"edge\">\n",
       "<title>2&#45;&gt;6</title>\n",
       "<path fill=\"none\" stroke=\"black\" d=\"M375.12,-185.99C375.12,-177.86 375.12,-168.96 375.12,-160.38\"/>\n",
       "<polygon fill=\"black\" stroke=\"black\" points=\"378.62,-160.14 375.12,-150.14 371.62,-160.14 378.62,-160.14\"/>\n",
       "</g>\n",
       "<!-- 4 -->\n",
       "<g id=\"node5\" class=\"node\">\n",
       "<title>4</title>\n",
       "<path fill=\"#fcf2ea\" stroke=\"black\" d=\"M96.37,-50C96.37,-50 11.88,-50 11.88,-50 5.88,-50 -0.12,-44 -0.12,-38 -0.12,-38 -0.12,-12 -0.12,-12 -0.12,-6 5.88,0 11.88,0 11.88,0 96.37,0 96.37,0 102.37,0 108.37,-6 108.37,-12 108.37,-12 108.37,-38 108.37,-38 108.37,-44 102.37,-50 96.37,-50\"/>\n",
       "<text text-anchor=\"middle\" x=\"54.12\" y=\"-34.8\" font-family=\"Helvetica,sans-Serif\" font-size=\"14.00\">mse = 2.669</text>\n",
       "<text text-anchor=\"middle\" x=\"54.12\" y=\"-20.8\" font-family=\"Helvetica,sans-Serif\" font-size=\"14.00\">samples = 55</text>\n",
       "<text text-anchor=\"middle\" x=\"54.12\" y=\"-6.8\" font-family=\"Helvetica,sans-Serif\" font-size=\"14.00\">value = 16.476</text>\n",
       "</g>\n",
       "<!-- 3&#45;&gt;4 -->\n",
       "<g id=\"edge4\" class=\"edge\">\n",
       "<title>3&#45;&gt;4</title>\n",
       "<path fill=\"none\" stroke=\"black\" d=\"M137.11,-85.94C123.78,-76.31 109.11,-65.72 95.87,-56.15\"/>\n",
       "<polygon fill=\"black\" stroke=\"black\" points=\"97.55,-53.05 87.39,-50.03 93.45,-58.72 97.55,-53.05\"/>\n",
       "</g>\n",
       "<!-- 5 -->\n",
       "<g id=\"node6\" class=\"node\">\n",
       "<title>5</title>\n",
       "<path fill=\"#ffffff\" stroke=\"black\" d=\"M222.37,-50C222.37,-50 137.88,-50 137.88,-50 131.88,-50 125.88,-44 125.88,-38 125.88,-38 125.88,-12 125.88,-12 125.88,-6 131.88,0 137.88,0 137.88,0 222.37,0 222.37,0 228.37,0 234.37,-6 234.37,-12 234.37,-12 234.37,-38 234.37,-38 234.37,-44 228.37,-50 222.37,-50\"/>\n",
       "<text text-anchor=\"middle\" x=\"180.12\" y=\"-34.8\" font-family=\"Helvetica,sans-Serif\" font-size=\"14.00\">mse = 3.052</text>\n",
       "<text text-anchor=\"middle\" x=\"180.12\" y=\"-20.8\" font-family=\"Helvetica,sans-Serif\" font-size=\"14.00\">samples = 51</text>\n",
       "<text text-anchor=\"middle\" x=\"180.12\" y=\"-6.8\" font-family=\"Helvetica,sans-Serif\" font-size=\"14.00\">value = 14.275</text>\n",
       "</g>\n",
       "<!-- 3&#45;&gt;5 -->\n",
       "<g id=\"edge5\" class=\"edge\">\n",
       "<title>3&#45;&gt;5</title>\n",
       "<path fill=\"none\" stroke=\"black\" d=\"M180.12,-85.94C180.12,-77.68 180.12,-68.72 180.12,-60.31\"/>\n",
       "<polygon fill=\"black\" stroke=\"black\" points=\"183.62,-60.03 180.12,-50.03 176.62,-60.03 183.62,-60.03\"/>\n",
       "</g>\n",
       "<!-- 7 -->\n",
       "<g id=\"node8\" class=\"node\">\n",
       "<title>7</title>\n",
       "<path fill=\"#f9e3d3\" stroke=\"black\" d=\"M348.37,-50C348.37,-50 263.88,-50 263.88,-50 257.88,-50 251.88,-44 251.88,-38 251.88,-38 251.88,-12 251.88,-12 251.88,-6 257.88,0 263.88,0 263.88,0 348.37,0 348.37,0 354.37,0 360.37,-6 360.37,-12 360.37,-12 360.37,-38 360.37,-38 360.37,-44 354.37,-50 348.37,-50\"/>\n",
       "<text text-anchor=\"middle\" x=\"306.12\" y=\"-34.8\" font-family=\"Helvetica,sans-Serif\" font-size=\"14.00\">mse = 3.449</text>\n",
       "<text text-anchor=\"middle\" x=\"306.12\" y=\"-20.8\" font-family=\"Helvetica,sans-Serif\" font-size=\"14.00\">samples = 126</text>\n",
       "<text text-anchor=\"middle\" x=\"306.12\" y=\"-6.8\" font-family=\"Helvetica,sans-Serif\" font-size=\"14.00\">value = 18.926</text>\n",
       "</g>\n",
       "<!-- 6&#45;&gt;7 -->\n",
       "<g id=\"edge7\" class=\"edge\">\n",
       "<title>6&#45;&gt;7</title>\n",
       "<path fill=\"none\" stroke=\"black\" d=\"M351.57,-85.94C344.75,-76.95 337.3,-67.12 330.44,-58.07\"/>\n",
       "<polygon fill=\"black\" stroke=\"black\" points=\"333.17,-55.88 324.34,-50.03 327.6,-60.11 333.17,-55.88\"/>\n",
       "</g>\n",
       "<!-- 8 -->\n",
       "<g id=\"node9\" class=\"node\">\n",
       "<title>8</title>\n",
       "<path fill=\"#fbece1\" stroke=\"black\" d=\"M474.37,-50C474.37,-50 389.88,-50 389.88,-50 383.88,-50 377.88,-44 377.88,-38 377.88,-38 377.88,-12 377.88,-12 377.88,-6 383.88,0 389.88,0 389.88,0 474.37,0 474.37,0 480.37,0 486.37,-6 486.37,-12 486.37,-12 486.37,-38 486.37,-38 486.37,-44 480.37,-50 474.37,-50\"/>\n",
       "<text text-anchor=\"middle\" x=\"432.12\" y=\"-34.8\" font-family=\"Helvetica,sans-Serif\" font-size=\"14.00\">mse = 2.56</text>\n",
       "<text text-anchor=\"middle\" x=\"432.12\" y=\"-20.8\" font-family=\"Helvetica,sans-Serif\" font-size=\"14.00\">samples = 100</text>\n",
       "<text text-anchor=\"middle\" x=\"432.12\" y=\"-6.8\" font-family=\"Helvetica,sans-Serif\" font-size=\"14.00\">value = 17.453</text>\n",
       "</g>\n",
       "<!-- 6&#45;&gt;8 -->\n",
       "<g id=\"edge8\" class=\"edge\">\n",
       "<title>6&#45;&gt;8</title>\n",
       "<path fill=\"none\" stroke=\"black\" d=\"M394.58,-85.94C400.09,-77.13 406.11,-67.52 411.68,-58.63\"/>\n",
       "<polygon fill=\"black\" stroke=\"black\" points=\"414.73,-60.36 417.07,-50.03 408.8,-56.65 414.73,-60.36\"/>\n",
       "</g>\n",
       "<!-- 10 -->\n",
       "<g id=\"node11\" class=\"node\">\n",
       "<title>10</title>\n",
       "<path fill=\"#f8ddca\" stroke=\"black\" d=\"M725.4,-150C725.4,-150 602.84,-150 602.84,-150 596.84,-150 590.84,-144 590.84,-138 590.84,-138 590.84,-98 590.84,-98 590.84,-92 596.84,-86 602.84,-86 602.84,-86 725.4,-86 725.4,-86 731.4,-86 737.4,-92 737.4,-98 737.4,-98 737.4,-138 737.4,-138 737.4,-144 731.4,-150 725.4,-150\"/>\n",
       "<text text-anchor=\"middle\" x=\"664.12\" y=\"-134.8\" font-family=\"Helvetica,sans-Serif\" font-size=\"14.00\">sunshine &lt;= 1021.35</text>\n",
       "<text text-anchor=\"middle\" x=\"664.12\" y=\"-120.8\" font-family=\"Helvetica,sans-Serif\" font-size=\"14.00\">mse = 2.913</text>\n",
       "<text text-anchor=\"middle\" x=\"664.12\" y=\"-106.8\" font-family=\"Helvetica,sans-Serif\" font-size=\"14.00\">samples = 111</text>\n",
       "<text text-anchor=\"middle\" x=\"664.12\" y=\"-92.8\" font-family=\"Helvetica,sans-Serif\" font-size=\"14.00\">value = 19.968</text>\n",
       "</g>\n",
       "<!-- 9&#45;&gt;10 -->\n",
       "<g id=\"edge10\" class=\"edge\">\n",
       "<title>9&#45;&gt;10</title>\n",
       "<path fill=\"none\" stroke=\"black\" d=\"M720.18,-185.99C712.7,-177.06 704.44,-167.19 696.62,-157.84\"/>\n",
       "<polygon fill=\"black\" stroke=\"black\" points=\"699.28,-155.57 690.18,-150.14 693.91,-160.06 699.28,-155.57\"/>\n",
       "</g>\n",
       "<!-- 13 -->\n",
       "<g id=\"node14\" class=\"node\">\n",
       "<title>13</title>\n",
       "<path fill=\"#f5d1b6\" stroke=\"black\" d=\"M890.4,-150C890.4,-150 767.84,-150 767.84,-150 761.84,-150 755.84,-144 755.84,-138 755.84,-138 755.84,-98 755.84,-98 755.84,-92 761.84,-86 767.84,-86 767.84,-86 890.4,-86 890.4,-86 896.4,-86 902.4,-92 902.4,-98 902.4,-98 902.4,-138 902.4,-138 902.4,-144 896.4,-150 890.4,-150\"/>\n",
       "<text text-anchor=\"middle\" x=\"829.12\" y=\"-134.8\" font-family=\"Helvetica,sans-Serif\" font-size=\"14.00\">sunshine &lt;= 1018.15</text>\n",
       "<text text-anchor=\"middle\" x=\"829.12\" y=\"-120.8\" font-family=\"Helvetica,sans-Serif\" font-size=\"14.00\">mse = 4.448</text>\n",
       "<text text-anchor=\"middle\" x=\"829.12\" y=\"-106.8\" font-family=\"Helvetica,sans-Serif\" font-size=\"14.00\">samples = 240</text>\n",
       "<text text-anchor=\"middle\" x=\"829.12\" y=\"-92.8\" font-family=\"Helvetica,sans-Serif\" font-size=\"14.00\">value = 22.016</text>\n",
       "</g>\n",
       "<!-- 9&#45;&gt;13 -->\n",
       "<g id=\"edge13\" class=\"edge\">\n",
       "<title>9&#45;&gt;13</title>\n",
       "<path fill=\"none\" stroke=\"black\" d=\"M772.38,-185.99C779.95,-177.06 788.31,-167.19 796.23,-157.84\"/>\n",
       "<polygon fill=\"black\" stroke=\"black\" points=\"798.95,-160.04 802.75,-150.14 793.61,-155.51 798.95,-160.04\"/>\n",
       "</g>\n",
       "<!-- 11 -->\n",
       "<g id=\"node12\" class=\"node\">\n",
       "<title>11</title>\n",
       "<path fill=\"#f8dfcc\" stroke=\"black\" d=\"M600.37,-50C600.37,-50 515.88,-50 515.88,-50 509.88,-50 503.88,-44 503.88,-38 503.88,-38 503.88,-12 503.88,-12 503.88,-6 509.88,0 515.88,0 515.88,0 600.37,0 600.37,0 606.37,0 612.37,-6 612.37,-12 612.37,-12 612.37,-38 612.37,-38 612.37,-44 606.37,-50 600.37,-50\"/>\n",
       "<text text-anchor=\"middle\" x=\"558.12\" y=\"-34.8\" font-family=\"Helvetica,sans-Serif\" font-size=\"14.00\">mse = 2.097</text>\n",
       "<text text-anchor=\"middle\" x=\"558.12\" y=\"-20.8\" font-family=\"Helvetica,sans-Serif\" font-size=\"14.00\">samples = 102</text>\n",
       "<text text-anchor=\"middle\" x=\"558.12\" y=\"-6.8\" font-family=\"Helvetica,sans-Serif\" font-size=\"14.00\">value = 19.704</text>\n",
       "</g>\n",
       "<!-- 10&#45;&gt;11 -->\n",
       "<g id=\"edge11\" class=\"edge\">\n",
       "<title>10&#45;&gt;11</title>\n",
       "<path fill=\"none\" stroke=\"black\" d=\"M627.94,-85.94C616.94,-76.49 604.85,-66.12 593.88,-56.7\"/>\n",
       "<polygon fill=\"black\" stroke=\"black\" points=\"595.98,-53.89 586.11,-50.03 591.42,-59.2 595.98,-53.89\"/>\n",
       "</g>\n",
       "<!-- 12 -->\n",
       "<g id=\"node13\" class=\"node\">\n",
       "<title>12</title>\n",
       "<path fill=\"#f4cbae\" stroke=\"black\" d=\"M726.37,-50C726.37,-50 641.88,-50 641.88,-50 635.88,-50 629.88,-44 629.88,-38 629.88,-38 629.88,-12 629.88,-12 629.88,-6 635.88,0 641.88,0 641.88,0 726.37,0 726.37,0 732.37,0 738.37,-6 738.37,-12 738.37,-12 738.37,-38 738.37,-38 738.37,-44 732.37,-50 726.37,-50\"/>\n",
       "<text text-anchor=\"middle\" x=\"684.12\" y=\"-34.8\" font-family=\"Helvetica,sans-Serif\" font-size=\"14.00\">mse = 2.378</text>\n",
       "<text text-anchor=\"middle\" x=\"684.12\" y=\"-20.8\" font-family=\"Helvetica,sans-Serif\" font-size=\"14.00\">samples = 9</text>\n",
       "<text text-anchor=\"middle\" x=\"684.12\" y=\"-6.8\" font-family=\"Helvetica,sans-Serif\" font-size=\"14.00\">value = 22.967</text>\n",
       "</g>\n",
       "<!-- 10&#45;&gt;12 -->\n",
       "<g id=\"edge12\" class=\"edge\">\n",
       "<title>10&#45;&gt;12</title>\n",
       "<path fill=\"none\" stroke=\"black\" d=\"M670.95,-85.94C672.78,-77.59 674.78,-68.52 676.64,-60.02\"/>\n",
       "<polygon fill=\"black\" stroke=\"black\" points=\"680.11,-60.55 678.84,-50.03 673.28,-59.05 680.11,-60.55\"/>\n",
       "</g>\n",
       "<!-- 14 -->\n",
       "<g id=\"node15\" class=\"node\">\n",
       "<title>14</title>\n",
       "<path fill=\"#f6d4bc\" stroke=\"black\" d=\"M852.37,-50C852.37,-50 767.88,-50 767.88,-50 761.88,-50 755.88,-44 755.88,-38 755.88,-38 755.88,-12 755.88,-12 755.88,-6 761.88,0 767.88,0 767.88,0 852.37,0 852.37,0 858.37,0 864.37,-6 864.37,-12 864.37,-12 864.37,-38 864.37,-38 864.37,-44 858.37,-50 852.37,-50\"/>\n",
       "<text text-anchor=\"middle\" x=\"810.12\" y=\"-34.8\" font-family=\"Helvetica,sans-Serif\" font-size=\"14.00\">mse = 3.491</text>\n",
       "<text text-anchor=\"middle\" x=\"810.12\" y=\"-20.8\" font-family=\"Helvetica,sans-Serif\" font-size=\"14.00\">samples = 172</text>\n",
       "<text text-anchor=\"middle\" x=\"810.12\" y=\"-6.8\" font-family=\"Helvetica,sans-Serif\" font-size=\"14.00\">value = 21.406</text>\n",
       "</g>\n",
       "<!-- 13&#45;&gt;14 -->\n",
       "<g id=\"edge14\" class=\"edge\">\n",
       "<title>13&#45;&gt;14</title>\n",
       "<path fill=\"none\" stroke=\"black\" d=\"M822.64,-85.94C820.89,-77.59 819,-68.52 817.23,-60.02\"/>\n",
       "<polygon fill=\"black\" stroke=\"black\" points=\"820.61,-59.1 815.14,-50.03 813.76,-60.53 820.61,-59.1\"/>\n",
       "</g>\n",
       "<!-- 15 -->\n",
       "<g id=\"node16\" class=\"node\">\n",
       "<title>15</title>\n",
       "<path fill=\"#f4c8a8\" stroke=\"black\" d=\"M978.37,-50C978.37,-50 893.88,-50 893.88,-50 887.88,-50 881.88,-44 881.88,-38 881.88,-38 881.88,-12 881.88,-12 881.88,-6 887.88,0 893.88,0 893.88,0 978.37,0 978.37,0 984.37,0 990.37,-6 990.37,-12 990.37,-12 990.37,-38 990.37,-38 990.37,-44 984.37,-50 978.37,-50\"/>\n",
       "<text text-anchor=\"middle\" x=\"936.12\" y=\"-34.8\" font-family=\"Helvetica,sans-Serif\" font-size=\"14.00\">mse = 3.551</text>\n",
       "<text text-anchor=\"middle\" x=\"936.12\" y=\"-20.8\" font-family=\"Helvetica,sans-Serif\" font-size=\"14.00\">samples = 68</text>\n",
       "<text text-anchor=\"middle\" x=\"936.12\" y=\"-6.8\" font-family=\"Helvetica,sans-Serif\" font-size=\"14.00\">value = 23.557</text>\n",
       "</g>\n",
       "<!-- 13&#45;&gt;15 -->\n",
       "<g id=\"edge15\" class=\"edge\">\n",
       "<title>13&#45;&gt;15</title>\n",
       "<path fill=\"none\" stroke=\"black\" d=\"M865.65,-85.94C876.75,-76.49 888.95,-66.12 900.03,-56.7\"/>\n",
       "<polygon fill=\"black\" stroke=\"black\" points=\"902.52,-59.17 907.87,-50.03 897.98,-53.84 902.52,-59.17\"/>\n",
       "</g>\n",
       "<!-- 17 -->\n",
       "<g id=\"node18\" class=\"node\">\n",
       "<title>17</title>\n",
       "<path fill=\"#f2be98\" stroke=\"black\" d=\"M1303.48,-250C1303.48,-250 1198.76,-250 1198.76,-250 1192.76,-250 1186.76,-244 1186.76,-238 1186.76,-238 1186.76,-198 1186.76,-198 1186.76,-192 1192.76,-186 1198.76,-186 1198.76,-186 1303.48,-186 1303.48,-186 1309.48,-186 1315.48,-192 1315.48,-198 1315.48,-198 1315.48,-238 1315.48,-238 1315.48,-244 1309.48,-250 1303.48,-250\"/>\n",
       "<text text-anchor=\"middle\" x=\"1251.12\" y=\"-234.8\" font-family=\"Helvetica,sans-Serif\" font-size=\"14.00\">avgtemp &lt;= 20.25</text>\n",
       "<text text-anchor=\"middle\" x=\"1251.12\" y=\"-220.8\" font-family=\"Helvetica,sans-Serif\" font-size=\"14.00\">mse = 3.761</text>\n",
       "<text text-anchor=\"middle\" x=\"1251.12\" y=\"-206.8\" font-family=\"Helvetica,sans-Serif\" font-size=\"14.00\">samples = 431</text>\n",
       "<text text-anchor=\"middle\" x=\"1251.12\" y=\"-192.8\" font-family=\"Helvetica,sans-Serif\" font-size=\"14.00\">value = 25.221</text>\n",
       "</g>\n",
       "<!-- 16&#45;&gt;17 -->\n",
       "<g id=\"edge17\" class=\"edge\">\n",
       "<title>16&#45;&gt;17</title>\n",
       "<path fill=\"none\" stroke=\"black\" d=\"M1251.12,-285.99C1251.12,-277.86 1251.12,-268.96 1251.12,-260.38\"/>\n",
       "<polygon fill=\"black\" stroke=\"black\" points=\"1254.62,-260.14 1251.12,-250.14 1247.62,-260.14 1254.62,-260.14\"/>\n",
       "</g>\n",
       "<!-- 24 -->\n",
       "<g id=\"node25\" class=\"node\">\n",
       "<title>24</title>\n",
       "<path fill=\"#eca26c\" stroke=\"black\" d=\"M1672.48,-250C1672.48,-250 1567.76,-250 1567.76,-250 1561.76,-250 1555.76,-244 1555.76,-238 1555.76,-238 1555.76,-198 1555.76,-198 1555.76,-192 1561.76,-186 1567.76,-186 1567.76,-186 1672.48,-186 1672.48,-186 1678.48,-186 1684.48,-192 1684.48,-198 1684.48,-198 1684.48,-238 1684.48,-238 1684.48,-244 1678.48,-250 1672.48,-250\"/>\n",
       "<text text-anchor=\"middle\" x=\"1620.12\" y=\"-234.8\" font-family=\"Helvetica,sans-Serif\" font-size=\"14.00\">avgtemp &lt;= 23.95</text>\n",
       "<text text-anchor=\"middle\" x=\"1620.12\" y=\"-220.8\" font-family=\"Helvetica,sans-Serif\" font-size=\"14.00\">mse = 6.829</text>\n",
       "<text text-anchor=\"middle\" x=\"1620.12\" y=\"-206.8\" font-family=\"Helvetica,sans-Serif\" font-size=\"14.00\">samples = 192</text>\n",
       "<text text-anchor=\"middle\" x=\"1620.12\" y=\"-192.8\" font-family=\"Helvetica,sans-Serif\" font-size=\"14.00\">value = 29.937</text>\n",
       "</g>\n",
       "<!-- 16&#45;&gt;24 -->\n",
       "<g id=\"edge24\" class=\"edge\">\n",
       "<title>16&#45;&gt;24</title>\n",
       "<path fill=\"none\" stroke=\"black\" d=\"M1315.82,-299.82C1380.04,-282.76 1478.39,-256.64 1545.79,-238.74\"/>\n",
       "<polygon fill=\"black\" stroke=\"black\" points=\"1546.73,-242.11 1555.5,-236.16 1544.94,-235.35 1546.73,-242.11\"/>\n",
       "</g>\n",
       "<!-- 18 -->\n",
       "<g id=\"node19\" class=\"node\">\n",
       "<title>18</title>\n",
       "<path fill=\"#f2c29f\" stroke=\"black\" d=\"M1230.42,-150C1230.42,-150 1133.83,-150 1133.83,-150 1127.83,-150 1121.83,-144 1121.83,-138 1121.83,-138 1121.83,-98 1121.83,-98 1121.83,-92 1127.83,-86 1133.83,-86 1133.83,-86 1230.42,-86 1230.42,-86 1236.42,-86 1242.42,-92 1242.42,-98 1242.42,-98 1242.42,-138 1242.42,-138 1242.42,-144 1236.42,-150 1230.42,-150\"/>\n",
       "<text text-anchor=\"middle\" x=\"1182.12\" y=\"-134.8\" font-family=\"Helvetica,sans-Serif\" font-size=\"14.00\">wind&#45;gut &lt;= 2.05</text>\n",
       "<text text-anchor=\"middle\" x=\"1182.12\" y=\"-120.8\" font-family=\"Helvetica,sans-Serif\" font-size=\"14.00\">mse = 2.985</text>\n",
       "<text text-anchor=\"middle\" x=\"1182.12\" y=\"-106.8\" font-family=\"Helvetica,sans-Serif\" font-size=\"14.00\">samples = 294</text>\n",
       "<text text-anchor=\"middle\" x=\"1182.12\" y=\"-92.8\" font-family=\"Helvetica,sans-Serif\" font-size=\"14.00\">value = 24.541</text>\n",
       "</g>\n",
       "<!-- 17&#45;&gt;18 -->\n",
       "<g id=\"edge18\" class=\"edge\">\n",
       "<title>17&#45;&gt;18</title>\n",
       "<path fill=\"none\" stroke=\"black\" d=\"M1229.29,-185.99C1223.12,-177.23 1216.33,-167.58 1209.87,-158.4\"/>\n",
       "<polygon fill=\"black\" stroke=\"black\" points=\"1212.67,-156.3 1204.05,-150.14 1206.94,-160.33 1212.67,-156.3\"/>\n",
       "</g>\n",
       "<!-- 21 -->\n",
       "<g id=\"node22\" class=\"node\">\n",
       "<title>21</title>\n",
       "<path fill=\"#f0b58b\" stroke=\"black\" d=\"M1368.42,-150C1368.42,-150 1271.83,-150 1271.83,-150 1265.83,-150 1259.83,-144 1259.83,-138 1259.83,-138 1259.83,-98 1259.83,-98 1259.83,-92 1265.83,-86 1271.83,-86 1271.83,-86 1368.42,-86 1368.42,-86 1374.42,-86 1380.42,-92 1380.42,-98 1380.42,-98 1380.42,-138 1380.42,-138 1380.42,-144 1374.42,-150 1368.42,-150\"/>\n",
       "<text text-anchor=\"middle\" x=\"1320.12\" y=\"-134.8\" font-family=\"Helvetica,sans-Serif\" font-size=\"14.00\">wind&#45;gut &lt;= 3.55</text>\n",
       "<text text-anchor=\"middle\" x=\"1320.12\" y=\"-120.8\" font-family=\"Helvetica,sans-Serif\" font-size=\"14.00\">mse = 2.302</text>\n",
       "<text text-anchor=\"middle\" x=\"1320.12\" y=\"-106.8\" font-family=\"Helvetica,sans-Serif\" font-size=\"14.00\">samples = 137</text>\n",
       "<text text-anchor=\"middle\" x=\"1320.12\" y=\"-92.8\" font-family=\"Helvetica,sans-Serif\" font-size=\"14.00\">value = 26.681</text>\n",
       "</g>\n",
       "<!-- 17&#45;&gt;21 -->\n",
       "<g id=\"edge21\" class=\"edge\">\n",
       "<title>17&#45;&gt;21</title>\n",
       "<path fill=\"none\" stroke=\"black\" d=\"M1272.95,-185.99C1279.12,-177.23 1285.91,-167.58 1292.38,-158.4\"/>\n",
       "<polygon fill=\"black\" stroke=\"black\" points=\"1295.3,-160.33 1298.2,-150.14 1289.58,-156.3 1295.3,-160.33\"/>\n",
       "</g>\n",
       "<!-- 19 -->\n",
       "<g id=\"node20\" class=\"node\">\n",
       "<title>19</title>\n",
       "<path fill=\"#f0b68c\" stroke=\"black\" d=\"M1104.37,-50C1104.37,-50 1019.88,-50 1019.88,-50 1013.88,-50 1007.88,-44 1007.88,-38 1007.88,-38 1007.88,-12 1007.88,-12 1007.88,-6 1013.88,0 1019.88,0 1019.88,0 1104.37,0 1104.37,0 1110.37,0 1116.37,-6 1116.37,-12 1116.37,-12 1116.37,-38 1116.37,-38 1116.37,-44 1110.37,-50 1104.37,-50\"/>\n",
       "<text text-anchor=\"middle\" x=\"1062.12\" y=\"-34.8\" font-family=\"Helvetica,sans-Serif\" font-size=\"14.00\">mse = 0.927</text>\n",
       "<text text-anchor=\"middle\" x=\"1062.12\" y=\"-20.8\" font-family=\"Helvetica,sans-Serif\" font-size=\"14.00\">samples = 19</text>\n",
       "<text text-anchor=\"middle\" x=\"1062.12\" y=\"-6.8\" font-family=\"Helvetica,sans-Serif\" font-size=\"14.00\">value = 26.553</text>\n",
       "</g>\n",
       "<!-- 18&#45;&gt;19 -->\n",
       "<g id=\"edge19\" class=\"edge\">\n",
       "<title>18&#45;&gt;19</title>\n",
       "<path fill=\"none\" stroke=\"black\" d=\"M1141.16,-85.94C1128.46,-76.31 1114.49,-65.72 1101.88,-56.15\"/>\n",
       "<polygon fill=\"black\" stroke=\"black\" points=\"1103.89,-53.28 1093.81,-50.03 1099.66,-58.86 1103.89,-53.28\"/>\n",
       "</g>\n",
       "<!-- 20 -->\n",
       "<g id=\"node21\" class=\"node\">\n",
       "<title>20</title>\n",
       "<path fill=\"#f3c3a0\" stroke=\"black\" d=\"M1230.37,-50C1230.37,-50 1145.88,-50 1145.88,-50 1139.88,-50 1133.88,-44 1133.88,-38 1133.88,-38 1133.88,-12 1133.88,-12 1133.88,-6 1139.88,0 1145.88,0 1145.88,0 1230.37,0 1230.37,0 1236.37,0 1242.37,-6 1242.37,-12 1242.37,-12 1242.37,-38 1242.37,-38 1242.37,-44 1236.37,-50 1230.37,-50\"/>\n",
       "<text text-anchor=\"middle\" x=\"1188.12\" y=\"-34.8\" font-family=\"Helvetica,sans-Serif\" font-size=\"14.00\">mse = 2.829</text>\n",
       "<text text-anchor=\"middle\" x=\"1188.12\" y=\"-20.8\" font-family=\"Helvetica,sans-Serif\" font-size=\"14.00\">samples = 275</text>\n",
       "<text text-anchor=\"middle\" x=\"1188.12\" y=\"-6.8\" font-family=\"Helvetica,sans-Serif\" font-size=\"14.00\">value = 24.402</text>\n",
       "</g>\n",
       "<!-- 18&#45;&gt;20 -->\n",
       "<g id=\"edge20\" class=\"edge\">\n",
       "<title>18&#45;&gt;20</title>\n",
       "<path fill=\"none\" stroke=\"black\" d=\"M1184.17,-85.94C1184.72,-77.59 1185.32,-68.52 1185.88,-60.02\"/>\n",
       "<polygon fill=\"black\" stroke=\"black\" points=\"1189.37,-60.24 1186.54,-50.03 1182.39,-59.78 1189.37,-60.24\"/>\n",
       "</g>\n",
       "<!-- 22 -->\n",
       "<g id=\"node23\" class=\"node\">\n",
       "<title>22</title>\n",
       "<path fill=\"#eeac7d\" stroke=\"black\" d=\"M1356.37,-50C1356.37,-50 1271.88,-50 1271.88,-50 1265.88,-50 1259.88,-44 1259.88,-38 1259.88,-38 1259.88,-12 1259.88,-12 1259.88,-6 1265.88,0 1271.88,0 1271.88,0 1356.37,0 1356.37,0 1362.37,0 1368.37,-6 1368.37,-12 1368.37,-12 1368.37,-38 1368.37,-38 1368.37,-44 1362.37,-50 1356.37,-50\"/>\n",
       "<text text-anchor=\"middle\" x=\"1314.12\" y=\"-34.8\" font-family=\"Helvetica,sans-Serif\" font-size=\"14.00\">mse = 2.591</text>\n",
       "<text text-anchor=\"middle\" x=\"1314.12\" y=\"-20.8\" font-family=\"Helvetica,sans-Serif\" font-size=\"14.00\">samples = 25</text>\n",
       "<text text-anchor=\"middle\" x=\"1314.12\" y=\"-6.8\" font-family=\"Helvetica,sans-Serif\" font-size=\"14.00\">value = 28.172</text>\n",
       "</g>\n",
       "<!-- 21&#45;&gt;22 -->\n",
       "<g id=\"edge22\" class=\"edge\">\n",
       "<title>21&#45;&gt;22</title>\n",
       "<path fill=\"none\" stroke=\"black\" d=\"M1318.07,-85.94C1317.52,-77.59 1316.93,-68.52 1316.37,-60.02\"/>\n",
       "<polygon fill=\"black\" stroke=\"black\" points=\"1319.86,-59.78 1315.71,-50.03 1312.87,-60.24 1319.86,-59.78\"/>\n",
       "</g>\n",
       "<!-- 23 -->\n",
       "<g id=\"node24\" class=\"node\">\n",
       "<title>23</title>\n",
       "<path fill=\"#f0b78e\" stroke=\"black\" d=\"M1482.37,-50C1482.37,-50 1397.88,-50 1397.88,-50 1391.88,-50 1385.88,-44 1385.88,-38 1385.88,-38 1385.88,-12 1385.88,-12 1385.88,-6 1391.88,0 1397.88,0 1397.88,0 1482.37,0 1482.37,0 1488.37,0 1494.37,-6 1494.37,-12 1494.37,-12 1494.37,-38 1494.37,-38 1494.37,-44 1488.37,-50 1482.37,-50\"/>\n",
       "<text text-anchor=\"middle\" x=\"1440.12\" y=\"-34.8\" font-family=\"Helvetica,sans-Serif\" font-size=\"14.00\">mse = 1.631</text>\n",
       "<text text-anchor=\"middle\" x=\"1440.12\" y=\"-20.8\" font-family=\"Helvetica,sans-Serif\" font-size=\"14.00\">samples = 112</text>\n",
       "<text text-anchor=\"middle\" x=\"1440.12\" y=\"-6.8\" font-family=\"Helvetica,sans-Serif\" font-size=\"14.00\">value = 26.348</text>\n",
       "</g>\n",
       "<!-- 21&#45;&gt;23 -->\n",
       "<g id=\"edge23\" class=\"edge\">\n",
       "<title>21&#45;&gt;23</title>\n",
       "<path fill=\"none\" stroke=\"black\" d=\"M1361.08,-85.94C1373.78,-76.31 1387.75,-65.72 1400.37,-56.15\"/>\n",
       "<polygon fill=\"black\" stroke=\"black\" points=\"1402.58,-58.86 1408.43,-50.03 1398.35,-53.28 1402.58,-58.86\"/>\n",
       "</g>\n",
       "<!-- 25 -->\n",
       "<g id=\"node26\" class=\"node\">\n",
       "<title>25</title>\n",
       "<path fill=\"#eda876\" stroke=\"black\" d=\"M1668.42,-150C1668.42,-150 1571.83,-150 1571.83,-150 1565.83,-150 1559.83,-144 1559.83,-138 1559.83,-138 1559.83,-98 1559.83,-98 1559.83,-92 1565.83,-86 1571.83,-86 1571.83,-86 1668.42,-86 1668.42,-86 1674.42,-86 1680.42,-92 1680.42,-98 1680.42,-98 1680.42,-138 1680.42,-138 1680.42,-144 1674.42,-150 1668.42,-150\"/>\n",
       "<text text-anchor=\"middle\" x=\"1620.12\" y=\"-134.8\" font-family=\"Helvetica,sans-Serif\" font-size=\"14.00\">wind&#45;gut &lt;= 3.15</text>\n",
       "<text text-anchor=\"middle\" x=\"1620.12\" y=\"-120.8\" font-family=\"Helvetica,sans-Serif\" font-size=\"14.00\">mse = 3.52</text>\n",
       "<text text-anchor=\"middle\" x=\"1620.12\" y=\"-106.8\" font-family=\"Helvetica,sans-Serif\" font-size=\"14.00\">samples = 140</text>\n",
       "<text text-anchor=\"middle\" x=\"1620.12\" y=\"-92.8\" font-family=\"Helvetica,sans-Serif\" font-size=\"14.00\">value = 28.901</text>\n",
       "</g>\n",
       "<!-- 24&#45;&gt;25 -->\n",
       "<g id=\"edge25\" class=\"edge\">\n",
       "<title>24&#45;&gt;25</title>\n",
       "<path fill=\"none\" stroke=\"black\" d=\"M1620.12,-185.99C1620.12,-177.86 1620.12,-168.96 1620.12,-160.38\"/>\n",
       "<polygon fill=\"black\" stroke=\"black\" points=\"1623.62,-160.14 1620.12,-150.14 1616.62,-160.14 1623.62,-160.14\"/>\n",
       "</g>\n",
       "<!-- 28 -->\n",
       "<g id=\"node29\" class=\"node\">\n",
       "<title>28</title>\n",
       "<path fill=\"#e89152\" stroke=\"black\" d=\"M1870.48,-150C1870.48,-150 1765.76,-150 1765.76,-150 1759.76,-150 1753.76,-144 1753.76,-138 1753.76,-138 1753.76,-98 1753.76,-98 1753.76,-92 1759.76,-86 1765.76,-86 1765.76,-86 1870.48,-86 1870.48,-86 1876.48,-86 1882.48,-92 1882.48,-98 1882.48,-98 1882.48,-138 1882.48,-138 1882.48,-144 1876.48,-150 1870.48,-150\"/>\n",
       "<text text-anchor=\"middle\" x=\"1818.12\" y=\"-134.8\" font-family=\"Helvetica,sans-Serif\" font-size=\"14.00\">avgtemp &lt;= 26.15</text>\n",
       "<text text-anchor=\"middle\" x=\"1818.12\" y=\"-120.8\" font-family=\"Helvetica,sans-Serif\" font-size=\"14.00\">mse = 5.06</text>\n",
       "<text text-anchor=\"middle\" x=\"1818.12\" y=\"-106.8\" font-family=\"Helvetica,sans-Serif\" font-size=\"14.00\">samples = 52</text>\n",
       "<text text-anchor=\"middle\" x=\"1818.12\" y=\"-92.8\" font-family=\"Helvetica,sans-Serif\" font-size=\"14.00\">value = 32.727</text>\n",
       "</g>\n",
       "<!-- 24&#45;&gt;28 -->\n",
       "<g id=\"edge28\" class=\"edge\">\n",
       "<title>24&#45;&gt;28</title>\n",
       "<path fill=\"none\" stroke=\"black\" d=\"M1682.77,-185.99C1702.9,-176.03 1725.37,-164.91 1746.12,-154.64\"/>\n",
       "<polygon fill=\"black\" stroke=\"black\" points=\"1747.79,-157.72 1755.2,-150.14 1744.69,-151.44 1747.79,-157.72\"/>\n",
       "</g>\n",
       "<!-- 26 -->\n",
       "<g id=\"node27\" class=\"node\">\n",
       "<title>26</title>\n",
       "<path fill=\"#eb9d65\" stroke=\"black\" d=\"M1608.37,-50C1608.37,-50 1523.88,-50 1523.88,-50 1517.88,-50 1511.88,-44 1511.88,-38 1511.88,-38 1511.88,-12 1511.88,-12 1511.88,-6 1517.88,0 1523.88,0 1523.88,0 1608.37,0 1608.37,0 1614.37,0 1620.37,-6 1620.37,-12 1620.37,-12 1620.37,-38 1620.37,-38 1620.37,-44 1614.37,-50 1608.37,-50\"/>\n",
       "<text text-anchor=\"middle\" x=\"1566.12\" y=\"-34.8\" font-family=\"Helvetica,sans-Serif\" font-size=\"14.00\">mse = 4.157</text>\n",
       "<text text-anchor=\"middle\" x=\"1566.12\" y=\"-20.8\" font-family=\"Helvetica,sans-Serif\" font-size=\"14.00\">samples = 28</text>\n",
       "<text text-anchor=\"middle\" x=\"1566.12\" y=\"-6.8\" font-family=\"Helvetica,sans-Serif\" font-size=\"14.00\">value = 30.725</text>\n",
       "</g>\n",
       "<!-- 25&#45;&gt;26 -->\n",
       "<g id=\"edge26\" class=\"edge\">\n",
       "<title>25&#45;&gt;26</title>\n",
       "<path fill=\"none\" stroke=\"black\" d=\"M1601.69,-85.94C1596.52,-77.22 1590.88,-67.72 1585.65,-58.91\"/>\n",
       "<polygon fill=\"black\" stroke=\"black\" points=\"1588.49,-56.84 1580.38,-50.03 1582.47,-60.42 1588.49,-56.84\"/>\n",
       "</g>\n",
       "<!-- 27 -->\n",
       "<g id=\"node28\" class=\"node\">\n",
       "<title>27</title>\n",
       "<path fill=\"#eeaa7a\" stroke=\"black\" d=\"M1734.37,-50C1734.37,-50 1649.88,-50 1649.88,-50 1643.88,-50 1637.88,-44 1637.88,-38 1637.88,-38 1637.88,-12 1637.88,-12 1637.88,-6 1643.88,0 1649.88,0 1649.88,0 1734.37,0 1734.37,0 1740.37,0 1746.37,-6 1746.37,-12 1746.37,-12 1746.37,-38 1746.37,-38 1746.37,-44 1740.37,-50 1734.37,-50\"/>\n",
       "<text text-anchor=\"middle\" x=\"1692.12\" y=\"-34.8\" font-family=\"Helvetica,sans-Serif\" font-size=\"14.00\">mse = 2.321</text>\n",
       "<text text-anchor=\"middle\" x=\"1692.12\" y=\"-20.8\" font-family=\"Helvetica,sans-Serif\" font-size=\"14.00\">samples = 112</text>\n",
       "<text text-anchor=\"middle\" x=\"1692.12\" y=\"-6.8\" font-family=\"Helvetica,sans-Serif\" font-size=\"14.00\">value = 28.445</text>\n",
       "</g>\n",
       "<!-- 25&#45;&gt;27 -->\n",
       "<g id=\"edge27\" class=\"edge\">\n",
       "<title>25&#45;&gt;27</title>\n",
       "<path fill=\"none\" stroke=\"black\" d=\"M1644.7,-85.94C1651.81,-76.95 1659.59,-67.12 1666.74,-58.07\"/>\n",
       "<polygon fill=\"black\" stroke=\"black\" points=\"1669.65,-60.04 1673.11,-50.03 1664.16,-55.7 1669.65,-60.04\"/>\n",
       "</g>\n",
       "<!-- 29 -->\n",
       "<g id=\"node30\" class=\"node\">\n",
       "<title>29</title>\n",
       "<path fill=\"#e9965a\" stroke=\"black\" d=\"M1860.37,-50C1860.37,-50 1775.88,-50 1775.88,-50 1769.88,-50 1763.88,-44 1763.88,-38 1763.88,-38 1763.88,-12 1763.88,-12 1763.88,-6 1769.88,0 1775.88,0 1775.88,0 1860.37,0 1860.37,0 1866.37,0 1872.37,-6 1872.37,-12 1872.37,-12 1872.37,-38 1872.37,-38 1872.37,-44 1866.37,-50 1860.37,-50\"/>\n",
       "<text text-anchor=\"middle\" x=\"1818.12\" y=\"-34.8\" font-family=\"Helvetica,sans-Serif\" font-size=\"14.00\">mse = 2.579</text>\n",
       "<text text-anchor=\"middle\" x=\"1818.12\" y=\"-20.8\" font-family=\"Helvetica,sans-Serif\" font-size=\"14.00\">samples = 39</text>\n",
       "<text text-anchor=\"middle\" x=\"1818.12\" y=\"-6.8\" font-family=\"Helvetica,sans-Serif\" font-size=\"14.00\">value = 31.838</text>\n",
       "</g>\n",
       "<!-- 28&#45;&gt;29 -->\n",
       "<g id=\"edge29\" class=\"edge\">\n",
       "<title>28&#45;&gt;29</title>\n",
       "<path fill=\"none\" stroke=\"black\" d=\"M1818.12,-85.94C1818.12,-77.68 1818.12,-68.72 1818.12,-60.31\"/>\n",
       "<polygon fill=\"black\" stroke=\"black\" points=\"1821.62,-60.03 1818.12,-50.03 1814.62,-60.03 1821.62,-60.03\"/>\n",
       "</g>\n",
       "<!-- 30 -->\n",
       "<g id=\"node31\" class=\"node\">\n",
       "<title>30</title>\n",
       "<path fill=\"#e58139\" stroke=\"black\" d=\"M1986.37,-50C1986.37,-50 1901.88,-50 1901.88,-50 1895.88,-50 1889.88,-44 1889.88,-38 1889.88,-38 1889.88,-12 1889.88,-12 1889.88,-6 1895.88,0 1901.88,0 1901.88,0 1986.37,0 1986.37,0 1992.37,0 1998.37,-6 1998.37,-12 1998.37,-12 1998.37,-38 1998.37,-38 1998.37,-44 1992.37,-50 1986.37,-50\"/>\n",
       "<text text-anchor=\"middle\" x=\"1944.12\" y=\"-34.8\" font-family=\"Helvetica,sans-Serif\" font-size=\"14.00\">mse = 3.031</text>\n",
       "<text text-anchor=\"middle\" x=\"1944.12\" y=\"-20.8\" font-family=\"Helvetica,sans-Serif\" font-size=\"14.00\">samples = 13</text>\n",
       "<text text-anchor=\"middle\" x=\"1944.12\" y=\"-6.8\" font-family=\"Helvetica,sans-Serif\" font-size=\"14.00\">value = 35.392</text>\n",
       "</g>\n",
       "<!-- 28&#45;&gt;30 -->\n",
       "<g id=\"edge30\" class=\"edge\">\n",
       "<title>28&#45;&gt;30</title>\n",
       "<path fill=\"none\" stroke=\"black\" d=\"M1861.13,-85.94C1874.47,-76.31 1889.13,-65.72 1902.38,-56.15\"/>\n",
       "<polygon fill=\"black\" stroke=\"black\" points=\"1904.79,-58.72 1910.85,-50.03 1900.69,-53.05 1904.79,-58.72\"/>\n",
       "</g>\n",
       "</g>\n",
       "</svg>\n"
      ],
      "text/plain": [
       "<graphviz.files.Source at 0x11c8ac0d0>"
      ]
     },
     "execution_count": 90,
     "metadata": {},
     "output_type": "execute_result"
    }
   ],
   "source": [
    "dot_data = export_graphviz(\n",
    "            tree_reg,\n",
    "            out_file=None,\n",
    "            feature_names=weather_features.columns,\n",
    "            rounded=True,\n",
    "            filled=True\n",
    "        )\n",
    "    \n",
    "    \n",
    "prettier_graph = graphviz.Source(dot_data)  \n",
    "prettier_graph\n"
   ]
  },
  {
   "cell_type": "markdown",
   "metadata": {},
   "source": [
    "# Predictions"
   ]
  },
  {
   "cell_type": "markdown",
   "metadata": {},
   "source": [
    "## Individual data point predictions"
   ]
  },
  {
   "cell_type": "code",
   "execution_count": 120,
   "metadata": {},
   "outputs": [
    {
     "data": {
      "text/html": [
       "<div>\n",
       "<style scoped>\n",
       "    .dataframe tbody tr th:only-of-type {\n",
       "        vertical-align: middle;\n",
       "    }\n",
       "\n",
       "    .dataframe tbody tr th {\n",
       "        vertical-align: top;\n",
       "    }\n",
       "\n",
       "    .dataframe thead th {\n",
       "        text-align: right;\n",
       "    }\n",
       "</style>\n",
       "<table border=\"1\" class=\"dataframe\">\n",
       "  <thead>\n",
       "    <tr style=\"text-align: right;\">\n",
       "      <th></th>\n",
       "      <th>avgtemp</th>\n",
       "      <th>wind-gut</th>\n",
       "      <th>sunshine</th>\n",
       "    </tr>\n",
       "  </thead>\n",
       "  <tbody>\n",
       "    <tr>\n",
       "      <th>646</th>\n",
       "      <td>17.3</td>\n",
       "      <td>2.9</td>\n",
       "      <td>1015.1</td>\n",
       "    </tr>\n",
       "    <tr>\n",
       "      <th>36</th>\n",
       "      <td>14.6</td>\n",
       "      <td>2.3</td>\n",
       "      <td>1022.2</td>\n",
       "    </tr>\n",
       "    <tr>\n",
       "      <th>68</th>\n",
       "      <td>12.0</td>\n",
       "      <td>4.4</td>\n",
       "      <td>1023.5</td>\n",
       "    </tr>\n",
       "    <tr>\n",
       "      <th>716</th>\n",
       "      <td>13.7</td>\n",
       "      <td>2.0</td>\n",
       "      <td>1018.1</td>\n",
       "    </tr>\n",
       "    <tr>\n",
       "      <th>843</th>\n",
       "      <td>16.2</td>\n",
       "      <td>5.1</td>\n",
       "      <td>1014.4</td>\n",
       "    </tr>\n",
       "  </tbody>\n",
       "</table>\n",
       "</div>"
      ],
      "text/plain": [
       "     avgtemp  wind-gut  sunshine\n",
       "646     17.3       2.9    1015.1\n",
       "36      14.6       2.3    1022.2\n",
       "68      12.0       4.4    1023.5\n",
       "716     13.7       2.0    1018.1\n",
       "843     16.2       5.1    1014.4"
      ]
     },
     "execution_count": 120,
     "metadata": {},
     "output_type": "execute_result"
    }
   ],
   "source": [
    "X_test.head()"
   ]
  },
  {
   "cell_type": "code",
   "execution_count": 122,
   "metadata": {},
   "outputs": [
    {
     "data": {
      "text/plain": [
       "646    20.6\n",
       "36     23.9\n",
       "68     16.7\n",
       "716    17.2\n",
       "843    20.6\n",
       "Name: pp, dtype: float64"
      ]
     },
     "execution_count": 122,
     "metadata": {},
     "output_type": "execute_result"
    }
   ],
   "source": [
    "y_test.head()"
   ]
  },
  {
   "cell_type": "code",
   "execution_count": 130,
   "metadata": {},
   "outputs": [
    {
     "name": "stdout",
     "output_type": "stream",
     "text": [
      "avgtemp       17.3\n",
      "wind-gut       2.9\n",
      "sunshine    1015.1\n",
      "Name: 646, dtype: float64\n"
     ]
    }
   ],
   "source": [
    "x_sample_point = X_test.loc[646]\n",
    "y_sample_point = y_test.loc[646]\n",
    "print(x_sample_point)"
   ]
  },
  {
   "cell_type": "code",
   "execution_count": 134,
   "metadata": {},
   "outputs": [
    {
     "name": "stdout",
     "output_type": "stream",
     "text": [
      "True precipitation is : 20.6\n",
      "Prediction precipitation is  [21.40639535]\n"
     ]
    }
   ],
   "source": [
    "print(f\"True precipitation is : {y_sample_point}\")\n",
    "print(f\"Prediction precipitation is  {tree_reg.predict([x_sample_point])}\")"
   ]
  },
  {
   "cell_type": "markdown",
   "metadata": {},
   "source": [
    "## Test set predictions"
   ]
  },
  {
   "cell_type": "code",
   "execution_count": 91,
   "metadata": {},
   "outputs": [],
   "source": [
    "y_pred = tree_reg.predict(X_test)"
   ]
  },
  {
   "cell_type": "code",
   "execution_count": 103,
   "metadata": {},
   "outputs": [
    {
     "data": {
      "text/plain": [
       "(numpy.ndarray, (560,))"
      ]
     },
     "execution_count": 103,
     "metadata": {},
     "output_type": "execute_result"
    }
   ],
   "source": [
    "type(y_pred), y_pred.shape"
   ]
  },
  {
   "cell_type": "code",
   "execution_count": 136,
   "metadata": {},
   "outputs": [
    {
     "data": {
      "text/plain": [
       "array([21.40639535, 18.92619048, 14.2745098 , 18.92619048, 21.40639535,\n",
       "       28.44464286, 18.92619048, 30.725     , 28.44464286, 18.92619048])"
      ]
     },
     "execution_count": 136,
     "metadata": {},
     "output_type": "execute_result"
    }
   ],
   "source": [
    "y_pred[:10]"
   ]
  },
  {
   "cell_type": "markdown",
   "metadata": {},
   "source": [
    "# Evaluation of predictions"
   ]
  },
  {
   "cell_type": "code",
   "execution_count": 105,
   "metadata": {},
   "outputs": [],
   "source": [
    "y_test_numpy = y_test.to_numpy()"
   ]
  },
  {
   "cell_type": "code",
   "execution_count": 137,
   "metadata": {},
   "outputs": [
    {
     "data": {
      "text/plain": [
       "1.7764921365123483"
      ]
     },
     "execution_count": 137,
     "metadata": {},
     "output_type": "execute_result"
    }
   ],
   "source": [
    "#Root mean squared error between predictions and test values\n",
    "mean_squared_error(y_test_numpy,y_pred,squared=False)"
   ]
  },
  {
   "cell_type": "code",
   "execution_count": 138,
   "metadata": {},
   "outputs": [],
   "source": [
    "#Plot of y_test and y_pred"
   ]
  },
  {
   "cell_type": "code",
   "execution_count": 186,
   "metadata": {},
   "outputs": [
    {
     "data": {
      "image/png": "[encoded data removed]",
      "text/plain": [
       "<Figure size 640x480 with 1 Axes>"
      ]
     },
     "metadata": {},
     "output_type": "display_data"
    }
   ],
   "source": [
    "evaluation_of_predictions =plt.figure()\n",
    "plt.scatter(range(1,561),y_test, color=\"red\", label=\"Reality\");\n",
    "plt.step(range(1,561),y_pred, color=\"green\",label=\"Predictions\");\n",
    "plt.xlim(-10,570)\n",
    "plt.title(\"Predictions versus reality\")\n",
    "plt.xlabel(\"Day number\")\n",
    "plt.ylabel(\"Precipitation in mm\");\n",
    "plt.legend();"
   ]
  },
  {
   "cell_type": "code",
   "execution_count": null,
   "metadata": {},
   "outputs": [],
   "source": []
  }
 ],
 "metadata": {
  "kernelspec": {
   "display_name": "Python 3",
   "language": "python",
   "name": "python3"
  },
  "language_info": {
   "codemirror_mode": {
    "name": "ipython",
    "version": 3
   },
   "file_extension": ".py",
   "mimetype": "text/x-python",
   "name": "python",
   "nbconvert_exporter": "python",
   "pygments_lexer": "ipython3",
   "version": "3.7.6"
  },
  "toc": {
   "base_numbering": 1,
   "nav_menu": {},
   "number_sections": true,
   "sideBar": true,
   "skip_h1_title": false,
   "title_cell": "Table of Contents",
   "title_sidebar": "Contents",
   "toc_cell": false,
   "toc_position": {},
   "toc_section_display": true,
   "toc_window_display": false
  }
 },
 "nbformat": 4,
 "nbformat_minor": 4
}

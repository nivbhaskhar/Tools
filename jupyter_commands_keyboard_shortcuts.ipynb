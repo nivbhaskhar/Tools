{
 "cells": [
  {
   "cell_type": "code",
   "execution_count": 1,
   "metadata": {},
   "outputs": [],
   "source": [
    "import math"
   ]
  },
  {
   "cell_type": "markdown",
   "metadata": {},
   "source": [
    "## Displaying pictures in Jupyter Notebooks\n",
    "\n",
    "\n"
   ]
  },
  {
   "cell_type": "raw",
   "metadata": {},
   "source": [
    "Command is \n",
    "\n",
    "![Title](path_of_image)  \n",
    "\n",
    "[Warning: No quotes in path_of_image]"
   ]
  },
  {
   "cell_type": "markdown",
   "metadata": {},
   "source": [
    "## Toggling between command and edit modes\n"
   ]
  },
  {
   "cell_type": "raw",
   "metadata": {},
   "source": [
    "Use Esc to switch to command mode \n",
    "\n",
    "Press Enter to switch to edit mode.\n",
    "\n",
    "Command mode - highlight around the selected cell should be blue\n",
    "\n",
    "Edit mode - highlight around the selected cell should be green"
   ]
  },
  {
   "cell_type": "markdown",
   "metadata": {},
   "source": [
    "## Changing cell type to Markdown/RawNBCconvert"
   ]
  },
  {
   "cell_type": "raw",
   "metadata": {},
   "source": [
    "Press M/R whilst in command mode "
   ]
  },
  {
   "cell_type": "markdown",
   "metadata": {},
   "source": [
    "## Inserting new cells"
   ]
  },
  {
   "cell_type": "raw",
   "metadata": {},
   "source": [
    "Press B whilst in command mode "
   ]
  }
 ],
 "metadata": {
  "kernelspec": {
   "display_name": "Python 3",
   "language": "python",
   "name": "python3"
  },
  "language_info": {
   "codemirror_mode": {
    "name": "ipython",
    "version": 3
   },
   "file_extension": ".py",
   "mimetype": "text/x-python",
   "name": "python",
   "nbconvert_exporter": "python",
   "pygments_lexer": "ipython3",
   "version": "3.7.6"
  }
 },
 "nbformat": 4,
 "nbformat_minor": 4
}
